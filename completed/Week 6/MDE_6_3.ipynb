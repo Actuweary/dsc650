{
 "cells": [
  {
   "cell_type": "code",
   "execution_count": 2,
   "id": "93cdac3e",
   "metadata": {},
   "outputs": [
    {
     "data": {
      "text/plain": [
       "'C:\\\\Users\\\\Kate\\\\Documents\\\\GitHub\\\\dsc650\\\\dsc650\\\\assignments\\\\completed'"
      ]
     },
     "execution_count": 2,
     "metadata": {},
     "output_type": "execute_result"
    }
   ],
   "source": [
    "pwd"
   ]
  },
  {
   "cell_type": "markdown",
   "id": "8f41e0a8",
   "metadata": {},
   "source": [
    "Michael Ersevim - DSC650 - Ex 6.3"
   ]
  },
  {
   "cell_type": "code",
   "execution_count": 5,
   "id": "fa56a5fe",
   "metadata": {},
   "outputs": [
    {
     "name": "stdout",
     "output_type": "stream",
     "text": [
      "1/1 [==============================] - 2s 2s/step\n",
      "Predicted: [('n04592741', 'wing', 0.71139246), ('n04552348', 'warplane', 0.18160455)]\n",
      "1/1 [==============================] - 0s 183ms/step\n",
      "Predicted: [('n03930630', 'pickup', 0.85233086), ('n04461696', 'tow_truck', 0.044323828)]\n",
      "1/1 [==============================] - 0s 167ms/step\n",
      "Predicted: [('n03792782', 'mountain_bike', 0.73315424), ('n03785016', 'moped', 0.12700267)]\n",
      "1/1 [==============================] - 0s 166ms/step\n",
      "Predicted: [('n03208938', 'disk_brake', 0.09678998), ('n02791124', 'barber_chair', 0.08260242)]\n",
      "1/1 [==============================] - 0s 165ms/step\n",
      "Predicted: [('n07745940', 'strawberry', 0.57908654), ('n12768682', 'buckeye', 0.07462026)]\n"
     ]
    }
   ],
   "source": [
    "from tensorflow.keras.applications.resnet50 import ResNet50\n",
    "from tensorflow.keras.preprocessing import image\n",
    "from tensorflow.keras.applications.resnet50 import preprocess_input, decode_predictions\n",
    "import numpy as np\n",
    "\n",
    "model = ResNet50(weights='imagenet')\n",
    "\n",
    "img_path = 'plane.jpg'\n",
    "img = image.load_img(img_path, target_size=(224, 224))\n",
    "x = image.img_to_array(img)\n",
    "x = np.expand_dims(x, axis=0)\n",
    "x = preprocess_input(x)\n",
    "\n",
    "preds = model.predict(x)\n",
    "# decode the results into a list of tuples (class, description, probability)\n",
    "# (one such list for each sample in the batch)\n",
    "print('Predicted:', decode_predictions(preds, top=2)[0])\n",
    "\n",
    "img_path = 'suv.jpg'\n",
    "img = image.load_img(img_path, target_size=(224, 224))\n",
    "x = image.img_to_array(img)\n",
    "x = np.expand_dims(x, axis=0)\n",
    "x = preprocess_input(x)\n",
    "\n",
    "preds = model.predict(x)\n",
    "# decode the results into a list of tuples (class, description, probability)\n",
    "# (one such list for each sample in the batch)\n",
    "print('Predicted:', decode_predictions(preds, top=2)[0])\n",
    "\n",
    "img_path = 'bike.jpg'\n",
    "img = image.load_img(img_path, target_size=(224, 224))\n",
    "x = image.img_to_array(img)\n",
    "x = np.expand_dims(x, axis=0)\n",
    "x = preprocess_input(x)\n",
    "\n",
    "preds = model.predict(x)\n",
    "# decode the results into a list of tuples (class, description, probability)\n",
    "# (one such list for each sample in the batch)\n",
    "print('Predicted:', decode_predictions(preds, top=2)[0])\n",
    "\n",
    "img_path = 'atv.jpg'\n",
    "img = image.load_img(img_path, target_size=(224, 224))\n",
    "x = image.img_to_array(img)\n",
    "x = np.expand_dims(x, axis=0)\n",
    "x = preprocess_input(x)\n",
    "\n",
    "preds = model.predict(x)\n",
    "# decode the results into a list of tuples (class, description, probability)\n",
    "# (one such list for each sample in the batch)\n",
    "print('Predicted:', decode_predictions(preds, top=2)[0])\n",
    "\n",
    "img_path = 'cake.jpg'\n",
    "img = image.load_img(img_path, target_size=(224, 224))\n",
    "x = image.img_to_array(img)\n",
    "x = np.expand_dims(x, axis=0)\n",
    "x = preprocess_input(x)\n",
    "\n",
    "preds = model.predict(x)\n",
    "# decode the results into a list of tuples (class, description, probability)\n",
    "# (one such list for each sample in the batch)\n",
    "print('Predicted:', decode_predictions(preds, top=2)[0])"
   ]
  },
  {
   "cell_type": "code",
   "execution_count": null,
   "id": "305ac2d6",
   "metadata": {},
   "outputs": [],
   "source": []
  }
 ],
 "metadata": {
  "kernelspec": {
   "display_name": "Python 3 (ipykernel)",
   "language": "python",
   "name": "python3"
  },
  "language_info": {
   "codemirror_mode": {
    "name": "ipython",
    "version": 3
   },
   "file_extension": ".py",
   "mimetype": "text/x-python",
   "name": "python",
   "nbconvert_exporter": "python",
   "pygments_lexer": "ipython3",
   "version": "3.9.7"
  }
 },
 "nbformat": 4,
 "nbformat_minor": 5
}
